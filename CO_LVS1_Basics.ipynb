{
  "nbformat": 4,
  "nbformat_minor": 0,
  "metadata": {
    "colab": {
      "name": "CO_LVS1_Basics.ipynb",
      "provenance": [],
      "authorship_tag": "ABX9TyNtiD1NKIedAtBuw9iwRSi/",
      "include_colab_link": true
    },
    "kernelspec": {
      "name": "python3",
      "display_name": "Python 3"
    }
  },
  "cells": [
    {
      "cell_type": "markdown",
      "metadata": {
        "id": "view-in-github",
        "colab_type": "text"
      },
      "source": [
        "<a href=\"https://colab.research.google.com/github/kranthiakssy/AI20RESCH14002_PhD_IITH/blob/master/CO_LVS1_Basics.ipynb\" target=\"_parent\"><img src=\"https://colab.research.google.com/assets/colab-badge.svg\" alt=\"Open In Colab\"/></a>"
      ]
    },
    {
      "cell_type": "code",
      "metadata": {
        "id": "MG3I9-KYMyGj"
      },
      "source": [
        "import numpy as np\r\n",
        "import cvxpy as cp"
      ],
      "execution_count": null,
      "outputs": []
    },
    {
      "cell_type": "code",
      "metadata": {
        "id": "vXfPAFzgM8GL"
      },
      "source": [
        "m = 5\r\n",
        "n = 10\r\n",
        "A = np.random.rand(n,m)"
      ],
      "execution_count": 16,
      "outputs": []
    },
    {
      "cell_type": "code",
      "metadata": {
        "id": "T0Uzet4VPOoC"
      },
      "source": [
        "def penalty(p):\r\n",
        "  return np.max(np.abs(np.log(A@p)))"
      ],
      "execution_count": 17,
      "outputs": []
    },
    {
      "cell_type": "code",
      "metadata": {
        "colab": {
          "base_uri": "https://localhost:8080/"
        },
        "id": "4wqU6jODPo_3",
        "outputId": "e88293d3-4f06-442c-c486-5284f0d100e2"
      },
      "source": [
        "p =cp.Variable(5)\r\n",
        "constraints = [p>=0,p<=1]\r\n",
        "objective = cp.Minimize(cp.max(cp.maximum(A@p,cp.inv_pos(A@p))))\r\n",
        "prob = cp.Problem(objective,constraints)\r\n",
        "prob.solve()\r\n",
        "print('powers',p.value)\r\n",
        "print('penalty', penalty(p.value))"
      ],
      "execution_count": 18,
      "outputs": [
        {
          "output_type": "stream",
          "text": [
            "powers [3.58582935e-01 4.66161578e-11 4.43061248e-01 8.16702566e-01\n",
            " 5.19892913e-01]\n",
            "penalty 0.2263737853384752\n"
          ],
          "name": "stdout"
        }
      ]
    },
    {
      "cell_type": "code",
      "metadata": {
        "colab": {
          "base_uri": "https://localhost:8080/"
        },
        "id": "xAyl0IcnQMel",
        "outputId": "bfedf6d4-dfc9-4988-8b59-3552f8f4c3a5"
      },
      "source": [
        "p =cp.Variable(5)\r\n",
        "objective = cp.Minimize(cp.sum_squares(A@p-np.ones(n,)))\r\n",
        "prob = cp.Problem(objective)\r\n",
        "prob.solve()\r\n",
        "clipped_powers = np.clip(p.value,0,1)\r\n",
        "print('powers',p.value)\r\n",
        "print('clipped powers',clipped_powers)\r\n",
        "print('penalty', penalty(p.value))"
      ],
      "execution_count": 19,
      "outputs": [
        {
          "output_type": "stream",
          "text": [
            "powers [ 0.36875415 -0.02979117  0.37807977  0.63041601  0.62715893]\n",
            "clipped powers [0.36875415 0.         0.37807977 0.63041601 0.62715893]\n",
            "penalty 0.44967042597983525\n"
          ],
          "name": "stdout"
        }
      ]
    },
    {
      "cell_type": "code",
      "metadata": {
        "id": "b8Lu7JCHRPG4"
      },
      "source": [
        ""
      ],
      "execution_count": null,
      "outputs": []
    }
  ]
}