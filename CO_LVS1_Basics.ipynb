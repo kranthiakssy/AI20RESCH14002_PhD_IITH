{
  "nbformat": 4,
  "nbformat_minor": 0,
  "metadata": {
    "colab": {
      "name": "CO_LVS1_Basics.ipynb",
      "provenance": [],
      "authorship_tag": "ABX9TyMRlUS8BV9nWUp0kTMkiM6j",
      "include_colab_link": true
    },
    "kernelspec": {
      "name": "python3",
      "display_name": "Python 3"
    }
  },
  "cells": [
    {
      "cell_type": "markdown",
      "metadata": {
        "id": "view-in-github",
        "colab_type": "text"
      },
      "source": [
        "<a href=\"https://colab.research.google.com/github/kranthiakssy/AI20RESCH14002_PhD_IITH/blob/master/CO_LVS1_Basics.ipynb\" target=\"_parent\"><img src=\"https://colab.research.google.com/assets/colab-badge.svg\" alt=\"Open In Colab\"/></a>"
      ]
    },
    {
      "cell_type": "code",
      "metadata": {
        "id": "MG3I9-KYMyGj"
      },
      "source": [
        "import numpy as np\r\n",
        "import cvxpy as cp"
      ],
      "execution_count": null,
      "outputs": []
    },
    {
      "cell_type": "code",
      "metadata": {
        "id": "vXfPAFzgM8GL"
      },
      "source": [
        "m = 5\r\n",
        "n = 10\r\n",
        "A = np.random.rand(n,m)"
      ],
      "execution_count": 11,
      "outputs": []
    },
    {
      "cell_type": "code",
      "metadata": {
        "id": "T0Uzet4VPOoC"
      },
      "source": [
        "def penalty(p):\r\n",
        "  return np.max(np.abs(np.log(A@p)))"
      ],
      "execution_count": 12,
      "outputs": []
    },
    {
      "cell_type": "code",
      "metadata": {
        "colab": {
          "base_uri": "https://localhost:8080/"
        },
        "id": "4wqU6jODPo_3",
        "outputId": "6d1ee678-c865-4712-f84e-79c3c92ca5ae"
      },
      "source": [
        "p =cp.Variable(5)\r\n",
        "constraints = [p>=0,p<=1]\r\n",
        "objective = cp.Minimize(cp.max(cp.maximum(A@p,cp.inv_pos(A@p))))\r\n",
        "prob = cp.Problem(objective,constraints)\r\n",
        "prob.solve()\r\n",
        "print('powers',p.value)\r\n",
        "print('penalty', penalty(p.value))"
      ],
      "execution_count": 13,
      "outputs": [
        {
          "output_type": "stream",
          "text": [
            "powers [0.33481593 0.75076801 0.43270327 0.22636836 0.42052824]\n",
            "penalty 0.2215306814902251\n"
          ],
          "name": "stdout"
        }
      ]
    },
    {
      "cell_type": "code",
      "metadata": {
        "id": "xAyl0IcnQMel"
      },
      "source": [
        ""
      ],
      "execution_count": null,
      "outputs": []
    }
  ]
}